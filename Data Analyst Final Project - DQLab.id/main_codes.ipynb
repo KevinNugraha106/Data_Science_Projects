{
 "cells": [
  {
   "cell_type": "code",
   "execution_count": 1,
   "id": "756633da",
   "metadata": {},
   "outputs": [],
   "source": [
    "# Import the needed library\n",
    "\n",
    "import pandas as pd\n",
    "from datetime import date\n",
    "from dateutil.relativedelta import relativedelta"
   ]
  },
  {
   "cell_type": "markdown",
   "id": "6c0ccb1a",
   "metadata": {},
   "source": [
    "# Data Preparations Part --"
   ]
  },
  {
   "cell_type": "code",
   "execution_count": 2,
   "id": "08e0898f",
   "metadata": {},
   "outputs": [
    {
     "name": "stdout",
     "output_type": "stream",
     "text": [
      "# of Data Records: 100000\n"
     ]
    },
    {
     "data": {
      "text/html": [
       "<div>\n",
       "<style scoped>\n",
       "    .dataframe tbody tr th:only-of-type {\n",
       "        vertical-align: middle;\n",
       "    }\n",
       "\n",
       "    .dataframe tbody tr th {\n",
       "        vertical-align: top;\n",
       "    }\n",
       "\n",
       "    .dataframe thead th {\n",
       "        text-align: right;\n",
       "    }\n",
       "</style>\n",
       "<table border=\"1\" class=\"dataframe\">\n",
       "  <thead>\n",
       "    <tr style=\"text-align: right;\">\n",
       "      <th></th>\n",
       "      <th>no</th>\n",
       "      <th>Row_Num</th>\n",
       "      <th>Customer_ID</th>\n",
       "      <th>Product</th>\n",
       "      <th>First_Transaction</th>\n",
       "      <th>Last_Transaction</th>\n",
       "      <th>Average_Transaction_Amount</th>\n",
       "      <th>Count_Transaction</th>\n",
       "    </tr>\n",
       "  </thead>\n",
       "  <tbody>\n",
       "    <tr>\n",
       "      <th>0</th>\n",
       "      <td>1</td>\n",
       "      <td>1</td>\n",
       "      <td>29531</td>\n",
       "      <td>Jaket</td>\n",
       "      <td>1466304274396</td>\n",
       "      <td>1538718482608</td>\n",
       "      <td>1467681</td>\n",
       "      <td>22</td>\n",
       "    </tr>\n",
       "    <tr>\n",
       "      <th>1</th>\n",
       "      <td>2</td>\n",
       "      <td>2</td>\n",
       "      <td>29531</td>\n",
       "      <td>Sepatu</td>\n",
       "      <td>1406077331494</td>\n",
       "      <td>1545735761270</td>\n",
       "      <td>1269337</td>\n",
       "      <td>41</td>\n",
       "    </tr>\n",
       "    <tr>\n",
       "      <th>2</th>\n",
       "      <td>3</td>\n",
       "      <td>3</td>\n",
       "      <td>141526</td>\n",
       "      <td>Tas</td>\n",
       "      <td>1493349147000</td>\n",
       "      <td>1548322802000</td>\n",
       "      <td>310915</td>\n",
       "      <td>30</td>\n",
       "    </tr>\n",
       "    <tr>\n",
       "      <th>3</th>\n",
       "      <td>4</td>\n",
       "      <td>4</td>\n",
       "      <td>141526</td>\n",
       "      <td>Jaket</td>\n",
       "      <td>1493362372547</td>\n",
       "      <td>1547643603911</td>\n",
       "      <td>722632</td>\n",
       "      <td>27</td>\n",
       "    </tr>\n",
       "    <tr>\n",
       "      <th>4</th>\n",
       "      <td>5</td>\n",
       "      <td>5</td>\n",
       "      <td>37545</td>\n",
       "      <td>Sepatu</td>\n",
       "      <td>1429178498531</td>\n",
       "      <td>1542891221530</td>\n",
       "      <td>1775036</td>\n",
       "      <td>25</td>\n",
       "    </tr>\n",
       "  </tbody>\n",
       "</table>\n",
       "</div>"
      ],
      "text/plain": [
       "   no  Row_Num  Customer_ID Product  First_Transaction  Last_Transaction  \\\n",
       "0   1        1        29531   Jaket      1466304274396     1538718482608   \n",
       "1   2        2        29531  Sepatu      1406077331494     1545735761270   \n",
       "2   3        3       141526     Tas      1493349147000     1548322802000   \n",
       "3   4        4       141526   Jaket      1493362372547     1547643603911   \n",
       "4   5        5        37545  Sepatu      1429178498531     1542891221530   \n",
       "\n",
       "   Average_Transaction_Amount  Count_Transaction  \n",
       "0                     1467681                 22  \n",
       "1                     1269337                 41  \n",
       "2                      310915                 30  \n",
       "3                      722632                 27  \n",
       "4                     1775036                 25  "
      ]
     },
     "execution_count": 2,
     "metadata": {},
     "output_type": "execute_result"
    }
   ],
   "source": [
    "# Importing the dataset (Source: DQLab.id - Data Analyst Python Track Certification)\n",
    "\n",
    "df = pd.read_csv('https://dqlab-dataset.s3-ap-southeast-1.amazonaws.com/data_retail.csv', sep=';')\n",
    "\n",
    "print(\"# of Data Records:\", df.shape[0])\n",
    "\n",
    "df.head()"
   ]
  },
  {
   "cell_type": "code",
   "execution_count": 3,
   "id": "a57dfd99",
   "metadata": {},
   "outputs": [
    {
     "name": "stdout",
     "output_type": "stream",
     "text": [
      "<class 'pandas.core.frame.DataFrame'>\n",
      "RangeIndex: 100000 entries, 0 to 99999\n",
      "Data columns (total 8 columns):\n",
      " #   Column                      Non-Null Count   Dtype \n",
      "---  ------                      --------------   ----- \n",
      " 0   no                          100000 non-null  int64 \n",
      " 1   Row_Num                     100000 non-null  int64 \n",
      " 2   Customer_ID                 100000 non-null  int64 \n",
      " 3   Product                     100000 non-null  object\n",
      " 4   First_Transaction           100000 non-null  int64 \n",
      " 5   Last_Transaction            100000 non-null  int64 \n",
      " 6   Average_Transaction_Amount  100000 non-null  int64 \n",
      " 7   Count_Transaction           100000 non-null  int64 \n",
      "dtypes: int64(7), object(1)\n",
      "memory usage: 6.1+ MB\n"
     ]
    }
   ],
   "source": [
    "# Dataset Information\n",
    "\n",
    "df.info()"
   ]
  },
  {
   "cell_type": "code",
   "execution_count": 4,
   "id": "a94a2444",
   "metadata": {},
   "outputs": [
    {
     "data": {
      "text/html": [
       "<div>\n",
       "<style scoped>\n",
       "    .dataframe tbody tr th:only-of-type {\n",
       "        vertical-align: middle;\n",
       "    }\n",
       "\n",
       "    .dataframe tbody tr th {\n",
       "        vertical-align: top;\n",
       "    }\n",
       "\n",
       "    .dataframe thead th {\n",
       "        text-align: right;\n",
       "    }\n",
       "</style>\n",
       "<table border=\"1\" class=\"dataframe\">\n",
       "  <thead>\n",
       "    <tr style=\"text-align: right;\">\n",
       "      <th></th>\n",
       "      <th>no</th>\n",
       "      <th>Row_Num</th>\n",
       "      <th>Customer_ID</th>\n",
       "      <th>Product</th>\n",
       "      <th>First_Transaction</th>\n",
       "      <th>Last_Transaction</th>\n",
       "      <th>Average_Transaction_Amount</th>\n",
       "      <th>Count_Transaction</th>\n",
       "    </tr>\n",
       "  </thead>\n",
       "  <tbody>\n",
       "    <tr>\n",
       "      <th>0</th>\n",
       "      <td>1</td>\n",
       "      <td>1</td>\n",
       "      <td>29531</td>\n",
       "      <td>Jaket</td>\n",
       "      <td>2016-06-19 02:44:34.396</td>\n",
       "      <td>2018-10-05 05:48:02.608</td>\n",
       "      <td>1467681</td>\n",
       "      <td>22</td>\n",
       "    </tr>\n",
       "    <tr>\n",
       "      <th>1</th>\n",
       "      <td>2</td>\n",
       "      <td>2</td>\n",
       "      <td>29531</td>\n",
       "      <td>Sepatu</td>\n",
       "      <td>2014-07-23 01:02:11.494</td>\n",
       "      <td>2018-12-25 11:02:41.270</td>\n",
       "      <td>1269337</td>\n",
       "      <td>41</td>\n",
       "    </tr>\n",
       "    <tr>\n",
       "      <th>2</th>\n",
       "      <td>3</td>\n",
       "      <td>3</td>\n",
       "      <td>141526</td>\n",
       "      <td>Tas</td>\n",
       "      <td>2017-04-28 03:12:27.000</td>\n",
       "      <td>2019-01-24 09:40:02.000</td>\n",
       "      <td>310915</td>\n",
       "      <td>30</td>\n",
       "    </tr>\n",
       "    <tr>\n",
       "      <th>3</th>\n",
       "      <td>4</td>\n",
       "      <td>4</td>\n",
       "      <td>141526</td>\n",
       "      <td>Jaket</td>\n",
       "      <td>2017-04-28 06:52:52.547</td>\n",
       "      <td>2019-01-16 13:00:03.911</td>\n",
       "      <td>722632</td>\n",
       "      <td>27</td>\n",
       "    </tr>\n",
       "    <tr>\n",
       "      <th>4</th>\n",
       "      <td>5</td>\n",
       "      <td>5</td>\n",
       "      <td>37545</td>\n",
       "      <td>Sepatu</td>\n",
       "      <td>2015-04-16 10:01:38.531</td>\n",
       "      <td>2018-11-22 12:53:41.530</td>\n",
       "      <td>1775036</td>\n",
       "      <td>25</td>\n",
       "    </tr>\n",
       "  </tbody>\n",
       "</table>\n",
       "</div>"
      ],
      "text/plain": [
       "   no  Row_Num  Customer_ID Product       First_Transaction  \\\n",
       "0   1        1        29531   Jaket 2016-06-19 02:44:34.396   \n",
       "1   2        2        29531  Sepatu 2014-07-23 01:02:11.494   \n",
       "2   3        3       141526     Tas 2017-04-28 03:12:27.000   \n",
       "3   4        4       141526   Jaket 2017-04-28 06:52:52.547   \n",
       "4   5        5        37545  Sepatu 2015-04-16 10:01:38.531   \n",
       "\n",
       "         Last_Transaction  Average_Transaction_Amount  Count_Transaction  \n",
       "0 2018-10-05 05:48:02.608                     1467681                 22  \n",
       "1 2018-12-25 11:02:41.270                     1269337                 41  \n",
       "2 2019-01-24 09:40:02.000                      310915                 30  \n",
       "3 2019-01-16 13:00:03.911                      722632                 27  \n",
       "4 2018-11-22 12:53:41.530                     1775036                 25  "
      ]
     },
     "execution_count": 4,
     "metadata": {},
     "output_type": "execute_result"
    }
   ],
   "source": [
    "# Change data in 'First_Transaction' and 'Last_Transaction' to Datetime format\n",
    "\n",
    "# First_Transaction Column:\n",
    "df['First_Transaction'] = pd.to_datetime(df['First_Transaction'], unit='ms', origin='unix')\n",
    "\n",
    "# Last_Transaction Column:\n",
    "df['Last_Transaction'] = pd.to_datetime(df['Last_Transaction'], unit='ms', origin='unix')\n",
    "\n",
    "df.head()"
   ]
  },
  {
   "cell_type": "code",
   "execution_count": 5,
   "id": "19f7619b",
   "metadata": {},
   "outputs": [
    {
     "name": "stdout",
     "output_type": "stream",
     "text": [
      "The latest Transaction Date occured at: 2019-02-01 23:57:57.286000\n",
      "Customers who have latest transaction date before this date: 2018-08-01 23:57:57.286000 will be considered as 'Churned'\n"
     ]
    },
    {
     "data": {
      "text/html": [
       "<div>\n",
       "<style scoped>\n",
       "    .dataframe tbody tr th:only-of-type {\n",
       "        vertical-align: middle;\n",
       "    }\n",
       "\n",
       "    .dataframe tbody tr th {\n",
       "        vertical-align: top;\n",
       "    }\n",
       "\n",
       "    .dataframe thead th {\n",
       "        text-align: right;\n",
       "    }\n",
       "</style>\n",
       "<table border=\"1\" class=\"dataframe\">\n",
       "  <thead>\n",
       "    <tr style=\"text-align: right;\">\n",
       "      <th></th>\n",
       "      <th>no</th>\n",
       "      <th>Row_Num</th>\n",
       "      <th>Customer_ID</th>\n",
       "      <th>Product</th>\n",
       "      <th>First_Transaction</th>\n",
       "      <th>Last_Transaction</th>\n",
       "      <th>Average_Transaction_Amount</th>\n",
       "      <th>Count_Transaction</th>\n",
       "      <th>Churn</th>\n",
       "    </tr>\n",
       "  </thead>\n",
       "  <tbody>\n",
       "    <tr>\n",
       "      <th>0</th>\n",
       "      <td>1</td>\n",
       "      <td>1</td>\n",
       "      <td>29531</td>\n",
       "      <td>Jaket</td>\n",
       "      <td>2016-06-19 02:44:34.396</td>\n",
       "      <td>2018-10-05 05:48:02.608</td>\n",
       "      <td>1467681</td>\n",
       "      <td>22</td>\n",
       "      <td>No</td>\n",
       "    </tr>\n",
       "    <tr>\n",
       "      <th>1</th>\n",
       "      <td>2</td>\n",
       "      <td>2</td>\n",
       "      <td>29531</td>\n",
       "      <td>Sepatu</td>\n",
       "      <td>2014-07-23 01:02:11.494</td>\n",
       "      <td>2018-12-25 11:02:41.270</td>\n",
       "      <td>1269337</td>\n",
       "      <td>41</td>\n",
       "      <td>No</td>\n",
       "    </tr>\n",
       "    <tr>\n",
       "      <th>2</th>\n",
       "      <td>3</td>\n",
       "      <td>3</td>\n",
       "      <td>141526</td>\n",
       "      <td>Tas</td>\n",
       "      <td>2017-04-28 03:12:27.000</td>\n",
       "      <td>2019-01-24 09:40:02.000</td>\n",
       "      <td>310915</td>\n",
       "      <td>30</td>\n",
       "      <td>No</td>\n",
       "    </tr>\n",
       "    <tr>\n",
       "      <th>3</th>\n",
       "      <td>4</td>\n",
       "      <td>4</td>\n",
       "      <td>141526</td>\n",
       "      <td>Jaket</td>\n",
       "      <td>2017-04-28 06:52:52.547</td>\n",
       "      <td>2019-01-16 13:00:03.911</td>\n",
       "      <td>722632</td>\n",
       "      <td>27</td>\n",
       "      <td>No</td>\n",
       "    </tr>\n",
       "    <tr>\n",
       "      <th>4</th>\n",
       "      <td>5</td>\n",
       "      <td>5</td>\n",
       "      <td>37545</td>\n",
       "      <td>Sepatu</td>\n",
       "      <td>2015-04-16 10:01:38.531</td>\n",
       "      <td>2018-11-22 12:53:41.530</td>\n",
       "      <td>1775036</td>\n",
       "      <td>25</td>\n",
       "      <td>No</td>\n",
       "    </tr>\n",
       "  </tbody>\n",
       "</table>\n",
       "</div>"
      ],
      "text/plain": [
       "   no  Row_Num  Customer_ID Product       First_Transaction  \\\n",
       "0   1        1        29531   Jaket 2016-06-19 02:44:34.396   \n",
       "1   2        2        29531  Sepatu 2014-07-23 01:02:11.494   \n",
       "2   3        3       141526     Tas 2017-04-28 03:12:27.000   \n",
       "3   4        4       141526   Jaket 2017-04-28 06:52:52.547   \n",
       "4   5        5        37545  Sepatu 2015-04-16 10:01:38.531   \n",
       "\n",
       "         Last_Transaction  Average_Transaction_Amount  Count_Transaction Churn  \n",
       "0 2018-10-05 05:48:02.608                     1467681                 22    No  \n",
       "1 2018-12-25 11:02:41.270                     1269337                 41    No  \n",
       "2 2019-01-24 09:40:02.000                      310915                 30    No  \n",
       "3 2019-01-16 13:00:03.911                      722632                 27    No  \n",
       "4 2018-11-22 12:53:41.530                     1775036                 25    No  "
      ]
     },
     "execution_count": 5,
     "metadata": {},
     "output_type": "execute_result"
    }
   ],
   "source": [
    "# Checking the maximum transaction date and define the target variable 'Churn' to dataset\n",
    "\n",
    "latest_date_transaction = max(df['Last_Transaction'])\n",
    "print(\"The latest Transaction Date occured at:\",latest_date_transaction)\n",
    "\n",
    "# Classify the Churn Costumer:\n",
    "# In this case, customers who have latest transaction before at 6 month before to the current latest_date_transaction will be considered as 'Churned' Customer\n",
    "\n",
    "six_months_before_latest_date = latest_date_transaction - relativedelta(months = 6)\n",
    "print(\"Customers who have latest transaction date before this date:\",six_months_before_latest_date,\n",
    "      \"will be considered as 'Churned'\")\n",
    "\n",
    "df.loc[df['Last_Transaction']<= six_months_before_latest_date, 'Churn'] = 'Yes' \n",
    "df.loc[df['Last_Transaction']> six_months_before_latest_date, 'Churn'] = 'No'\n",
    "\n",
    "df.head()"
   ]
  },
  {
   "cell_type": "code",
   "execution_count": 6,
   "id": "120ec84e",
   "metadata": {},
   "outputs": [
    {
     "data": {
      "text/html": [
       "<div>\n",
       "<style scoped>\n",
       "    .dataframe tbody tr th:only-of-type {\n",
       "        vertical-align: middle;\n",
       "    }\n",
       "\n",
       "    .dataframe tbody tr th {\n",
       "        vertical-align: top;\n",
       "    }\n",
       "\n",
       "    .dataframe thead th {\n",
       "        text-align: right;\n",
       "    }\n",
       "</style>\n",
       "<table border=\"1\" class=\"dataframe\">\n",
       "  <thead>\n",
       "    <tr style=\"text-align: right;\">\n",
       "      <th></th>\n",
       "      <th>Customer_ID</th>\n",
       "      <th>Product</th>\n",
       "      <th>First_Transaction</th>\n",
       "      <th>Last_Transaction</th>\n",
       "      <th>Average_Transaction_Amount</th>\n",
       "      <th>Count_Transaction</th>\n",
       "      <th>Churn</th>\n",
       "    </tr>\n",
       "  </thead>\n",
       "  <tbody>\n",
       "    <tr>\n",
       "      <th>0</th>\n",
       "      <td>29531</td>\n",
       "      <td>Jaket</td>\n",
       "      <td>2016-06-19 02:44:34.396</td>\n",
       "      <td>2018-10-05 05:48:02.608</td>\n",
       "      <td>1467681</td>\n",
       "      <td>22</td>\n",
       "      <td>No</td>\n",
       "    </tr>\n",
       "    <tr>\n",
       "      <th>1</th>\n",
       "      <td>29531</td>\n",
       "      <td>Sepatu</td>\n",
       "      <td>2014-07-23 01:02:11.494</td>\n",
       "      <td>2018-12-25 11:02:41.270</td>\n",
       "      <td>1269337</td>\n",
       "      <td>41</td>\n",
       "      <td>No</td>\n",
       "    </tr>\n",
       "    <tr>\n",
       "      <th>2</th>\n",
       "      <td>141526</td>\n",
       "      <td>Tas</td>\n",
       "      <td>2017-04-28 03:12:27.000</td>\n",
       "      <td>2019-01-24 09:40:02.000</td>\n",
       "      <td>310915</td>\n",
       "      <td>30</td>\n",
       "      <td>No</td>\n",
       "    </tr>\n",
       "    <tr>\n",
       "      <th>3</th>\n",
       "      <td>141526</td>\n",
       "      <td>Jaket</td>\n",
       "      <td>2017-04-28 06:52:52.547</td>\n",
       "      <td>2019-01-16 13:00:03.911</td>\n",
       "      <td>722632</td>\n",
       "      <td>27</td>\n",
       "      <td>No</td>\n",
       "    </tr>\n",
       "    <tr>\n",
       "      <th>4</th>\n",
       "      <td>37545</td>\n",
       "      <td>Sepatu</td>\n",
       "      <td>2015-04-16 10:01:38.531</td>\n",
       "      <td>2018-11-22 12:53:41.530</td>\n",
       "      <td>1775036</td>\n",
       "      <td>25</td>\n",
       "      <td>No</td>\n",
       "    </tr>\n",
       "  </tbody>\n",
       "</table>\n",
       "</div>"
      ],
      "text/plain": [
       "   Customer_ID Product       First_Transaction        Last_Transaction  \\\n",
       "0        29531   Jaket 2016-06-19 02:44:34.396 2018-10-05 05:48:02.608   \n",
       "1        29531  Sepatu 2014-07-23 01:02:11.494 2018-12-25 11:02:41.270   \n",
       "2       141526     Tas 2017-04-28 03:12:27.000 2019-01-24 09:40:02.000   \n",
       "3       141526   Jaket 2017-04-28 06:52:52.547 2019-01-16 13:00:03.911   \n",
       "4        37545  Sepatu 2015-04-16 10:01:38.531 2018-11-22 12:53:41.530   \n",
       "\n",
       "   Average_Transaction_Amount  Count_Transaction Churn  \n",
       "0                     1467681                 22    No  \n",
       "1                     1269337                 41    No  \n",
       "2                      310915                 30    No  \n",
       "3                      722632                 27    No  \n",
       "4                     1775036                 25    No  "
      ]
     },
     "execution_count": 6,
     "metadata": {},
     "output_type": "execute_result"
    }
   ],
   "source": [
    "# Take out the unnecessary columns for training model\n",
    "\n",
    "del df['no']\n",
    "del df['Row_Num']\n",
    "\n",
    "df.head()"
   ]
  },
  {
   "cell_type": "markdown",
   "id": "d167a067",
   "metadata": {},
   "source": [
    "# Data Analysis Part --"
   ]
  },
  {
   "cell_type": "code",
   "execution_count": 7,
   "id": "sacred-examination",
   "metadata": {},
   "outputs": [
    {
     "data": {
      "image/png": "[encoded data removed]",
      "text/plain": [
       "<Figure size 432x288 with 1 Axes>"
      ]
     },
     "metadata": {
      "needs_background": "light"
     },
     "output_type": "display_data"
    }
   ],
   "source": [
    "import matplotlib.pyplot as plt\n",
    "\n",
    "# Extract 'Year'-component from first and last transactions into 2 new columns:\n",
    "\n",
    "df['Year_First_Transaction'] = df['First_Transaction'].dt.year\n",
    "df['Year_Last_Transaction'] = df['Last_Transaction'].dt.year\n",
    "\n",
    "# Plot graph of customer acquisition by Year\n",
    "\n",
    "df_year_1 = df.groupby(['Year_First_Transaction'])['Customer_ID'].count()\n",
    "df_year_1.plot(x='index', y='value', kind='bar', title='Graph of Customer Acquisition')\n",
    "plt.xlabel('Year_First_Transaction')\n",
    "plt.ylabel('Num_of_Customer')\n",
    "plt.tight_layout()\n",
    "plt.show()"
   ]
  },
  {
   "cell_type": "code",
   "execution_count": 8,
   "id": "d996973c",
   "metadata": {},
   "outputs": [
    {
     "data": {
      "image/png": "[encoded data removed]",
      "text/plain": [
       "<Figure size 432x288 with 1 Axes>"
      ]
     },
     "metadata": {
      "needs_background": "light"
     },
     "output_type": "display_data"
    }
   ],
   "source": [
    "# Make graph of number of transactions occured by Year\n",
    "\n",
    "plt.clf()\n",
    "df_year_2 = df.groupby(['Year_First_Transaction'])['Count_Transaction'].sum()\n",
    "df_year_2.plot(x='Year_First_Transaction', y='Count_Transaction', kind='bar', title='Graph of Transaction Customer')\n",
    "plt.xlabel('Year_First_Transaction')\n",
    "plt.ylabel('Num_of_Transaction')\n",
    "plt.tight_layout()\n",
    "plt.show()"
   ]
  },
  {
   "cell_type": "code",
   "execution_count": 9,
   "id": "fc7430c7",
   "metadata": {},
   "outputs": [
    {
     "data": {
      "image/png": "[encoded data removed]",
      "text/plain": [
       "<Figure size 432x288 with 1 Axes>"
      ]
     },
     "metadata": {
      "needs_background": "light"
     },
     "output_type": "display_data"
    }
   ],
   "source": [
    "# Make graph of average of transactions occured by Year and Products\n",
    "\n",
    "import seaborn as sns\n",
    "\n",
    "plt.clf()\n",
    "sns.pointplot(data = df.groupby(['Product', 'Year_First_Transaction']).mean().reset_index(),\n",
    "x='Year_First_Transaction',\n",
    "y='Average_Transaction_Amount',\n",
    "hue='Product')\n",
    "plt.ylabel('Average_Transaction_Amount (in millions)')\n",
    "plt.tight_layout()\n",
    "plt.show()"
   ]
  },
  {
   "cell_type": "code",
   "execution_count": 10,
   "id": "82a4e233",
   "metadata": {},
   "outputs": [
    {
     "data": {
      "text/plain": [
       "<Figure size 432x288 with 0 Axes>"
      ]
     },
     "metadata": {},
     "output_type": "display_data"
    },
    {
     "data": {
      "image/png": "[encoded data removed]",
      "text/plain": [
       "<Figure size 720x504 with 4 Axes>"
      ]
     },
     "metadata": {},
     "output_type": "display_data"
    }
   ],
   "source": [
    "# Pivoting the Churn Customers by All Products\n",
    "\n",
    "df_piv = df.pivot_table(index='Churn', \n",
    "                        columns='Product',\n",
    "                        values='Customer_ID', \n",
    "                        aggfunc='count', \n",
    "                        fill_value=0)\n",
    "\n",
    "# Make the Pie Chart of the Pivot Table above\n",
    "\n",
    "plt.clf()\n",
    "plot_product = df_piv.count().sort_values(ascending=False).head(5).index\n",
    "\n",
    "df_piv = df_piv.reindex(columns=plot_product)\n",
    "df_piv.plot.pie(subplots=True,\n",
    "                figsize=(10, 7),\n",
    "                layout=(-1, 2),\n",
    "                autopct='%1.0f%%',\n",
    "                title='Proportion Churn by Product')\n",
    "plt.tight_layout()\n",
    "plt.show()\n"
   ]
  },
  {
   "cell_type": "markdown",
   "id": "ba358f93",
   "metadata": {},
   "source": [
    "# Building & Apply Predictive Model (start from here) --"
   ]
  },
  {
   "cell_type": "code",
   "execution_count": 11,
   "id": "2baf4806",
   "metadata": {},
   "outputs": [
    {
     "name": "stdout",
     "output_type": "stream",
     "text": [
      "Total of All Customers 100000\n",
      "Total of Churned Customers 66701\n",
      "Natural Churn-rate: 66.701 %\n"
     ]
    }
   ],
   "source": [
    "# Counting overall Label compositions:\n",
    "\n",
    "print(\"Total of All Customers\", df.shape[0])\n",
    "print(\"Total of Churned Customers\", df.loc[df.Churn == 'Yes'].shape[0])\n",
    "print(\"Natural Churn-rate:\", (df.loc[df.Churn == 'Yes'].shape[0]/df.shape[0])*100,\"%\")\n",
    "\n",
    "# The dataset's label is quite well-balanced between Churned and Non-Churned Customers (IDEAL RATIO is 1:1)"
   ]
  },
  {
   "cell_type": "code",
   "execution_count": 12,
   "id": "394dc82a",
   "metadata": {},
   "outputs": [],
   "source": [
    "# Import the Machine Learing's Library scikit-learn\n",
    "\n",
    "from sklearn.model_selection import train_test_split\n",
    "from sklearn.preprocessing import LabelEncoder\n",
    "from sklearn.metrics import confusion_matrix, classification_report\n",
    "from sklearn import metrics"
   ]
  },
  {
   "cell_type": "code",
   "execution_count": 13,
   "id": "dcb51f72",
   "metadata": {},
   "outputs": [
    {
     "name": "stderr",
     "output_type": "stream",
     "text": [
      "C:\\Users\\KEVINN~1\\AppData\\Local\\Temp/ipykernel_15916/354797818.py:14: SettingWithCopyWarning: \n",
      "A value is trying to be set on a copy of a slice from a DataFrame.\n",
      "Try using .loc[row_indexer,col_indexer] = value instead\n",
      "\n",
      "See the caveats in the documentation: https://pandas.pydata.org/pandas-docs/stable/user_guide/indexing.html#returning-a-view-versus-a-copy\n",
      "  data['Product'] = Product_Label.fit_transform(data['Product'])\n",
      "c:\\users\\kevin nugraha\\appdata\\local\\programs\\python\\python39\\lib\\site-packages\\pandas\\core\\series.py:4509: SettingWithCopyWarning: \n",
      "A value is trying to be set on a copy of a slice from a DataFrame\n",
      "\n",
      "See the caveats in the documentation: https://pandas.pydata.org/pandas-docs/stable/user_guide/indexing.html#returning-a-view-versus-a-copy\n",
      "  return super().replace(\n"
     ]
    },
    {
     "data": {
      "text/html": [
       "<div>\n",
       "<style scoped>\n",
       "    .dataframe tbody tr th:only-of-type {\n",
       "        vertical-align: middle;\n",
       "    }\n",
       "\n",
       "    .dataframe tbody tr th {\n",
       "        vertical-align: top;\n",
       "    }\n",
       "\n",
       "    .dataframe thead th {\n",
       "        text-align: right;\n",
       "    }\n",
       "</style>\n",
       "<table border=\"1\" class=\"dataframe\">\n",
       "  <thead>\n",
       "    <tr style=\"text-align: right;\">\n",
       "      <th></th>\n",
       "      <th>Diff_First_to_Latest_Date</th>\n",
       "      <th>Diff_Last_to_Latest_Date</th>\n",
       "      <th>Product</th>\n",
       "      <th>Average_Transaction_Amount</th>\n",
       "      <th>Count_Transaction</th>\n",
       "      <th>Churn</th>\n",
       "    </tr>\n",
       "  </thead>\n",
       "  <tbody>\n",
       "    <tr>\n",
       "      <th>0</th>\n",
       "      <td>957</td>\n",
       "      <td>119</td>\n",
       "      <td>1</td>\n",
       "      <td>1467681</td>\n",
       "      <td>22</td>\n",
       "      <td>False</td>\n",
       "    </tr>\n",
       "    <tr>\n",
       "      <th>1</th>\n",
       "      <td>1654</td>\n",
       "      <td>38</td>\n",
       "      <td>2</td>\n",
       "      <td>1269337</td>\n",
       "      <td>41</td>\n",
       "      <td>False</td>\n",
       "    </tr>\n",
       "    <tr>\n",
       "      <th>2</th>\n",
       "      <td>644</td>\n",
       "      <td>8</td>\n",
       "      <td>3</td>\n",
       "      <td>310915</td>\n",
       "      <td>30</td>\n",
       "      <td>False</td>\n",
       "    </tr>\n",
       "    <tr>\n",
       "      <th>3</th>\n",
       "      <td>644</td>\n",
       "      <td>16</td>\n",
       "      <td>1</td>\n",
       "      <td>722632</td>\n",
       "      <td>27</td>\n",
       "      <td>False</td>\n",
       "    </tr>\n",
       "    <tr>\n",
       "      <th>4</th>\n",
       "      <td>1387</td>\n",
       "      <td>71</td>\n",
       "      <td>2</td>\n",
       "      <td>1775036</td>\n",
       "      <td>25</td>\n",
       "      <td>False</td>\n",
       "    </tr>\n",
       "  </tbody>\n",
       "</table>\n",
       "</div>"
      ],
      "text/plain": [
       "   Diff_First_to_Latest_Date  Diff_Last_to_Latest_Date  Product  \\\n",
       "0                        957                       119        1   \n",
       "1                       1654                        38        2   \n",
       "2                        644                         8        3   \n",
       "3                        644                        16        1   \n",
       "4                       1387                        71        2   \n",
       "\n",
       "   Average_Transaction_Amount  Count_Transaction  Churn  \n",
       "0                     1467681                 22  False  \n",
       "1                     1269337                 41  False  \n",
       "2                      310915                 30  False  \n",
       "3                      722632                 27  False  \n",
       "4                     1775036                 25  False  "
      ]
     },
     "execution_count": 13,
     "metadata": {},
     "output_type": "execute_result"
    }
   ],
   "source": [
    "# Define new dataset with needed columns for training model using -- Feature Engineering --\n",
    "\n",
    "# Make Date Difference Between the latest_date_transaction with First & Last Transaction Date columns:\n",
    "df['Diff_First_to_Latest_Date'] = (latest_date_transaction - df['First_Transaction']).dt.days.astype(int)\n",
    "df['Diff_Last_to_Latest_Date'] = (latest_date_transaction - df['Last_Transaction']).dt.days.astype(int)\n",
    "\n",
    "data = df[['Diff_First_to_Latest_Date', 'Diff_Last_to_Latest_Date', 'Product', 'Average_Transaction_Amount', \n",
    "           'Count_Transaction', 'Churn']]\n",
    "\n",
    "# Apply LabelEncoding to categorical-data:\n",
    "\n",
    "Product_Label = LabelEncoder()\n",
    "\n",
    "data['Product'] = Product_Label.fit_transform(data['Product'])\n",
    "\n",
    "data[\"Churn\"].replace({\"Yes\": True, \"No\": False}, inplace=True)\n",
    "\n",
    "data.head()"
   ]
  },
  {
   "cell_type": "code",
   "execution_count": 14,
   "id": "minute-garage",
   "metadata": {},
   "outputs": [
    {
     "name": "stdout",
     "output_type": "stream",
     "text": [
      "The X_Train size: (75000, 5)\n",
      "The X_Test size: (25000, 5)\n",
      "\n",
      "The y_Train size: (75000,) with the distribution of YES is: 66.74 %\n",
      "The y_Test size: (25000,) with the distribution of YES is: 66.584 %\n"
     ]
    }
   ],
   "source": [
    "# Split the datasets into train and test data:\n",
    "\n",
    "X = data.drop(['Churn'], axis=1)  # PREDICTORS\n",
    "y = data['Churn']                 # LABEL\n",
    "\n",
    "seed = 33\n",
    "\n",
    "X_train, X_test, y_train, y_test = train_test_split(X, y, test_size = 0.25, random_state = seed)\n",
    "\n",
    "print('The X_Train size:', X_train.shape)\n",
    "print('The X_Test size:', X_test.shape)\n",
    "\n",
    "print('\\nThe y_Train size:', y_train.shape,'with the distribution of YES is:',\n",
    "      (y_train.loc[y_train == True].shape[0]/y_train.shape[0])*100,'%')\n",
    "\n",
    "print('The y_Test size:', y_test.shape,'with the distribution of YES is:',\n",
    "      (y_test.loc[y_test == True].shape[0]/y_test.shape[0])*100,'%')"
   ]
  },
  {
   "cell_type": "code",
   "execution_count": 15,
   "id": "70ea1af2",
   "metadata": {},
   "outputs": [
    {
     "name": "stdout",
     "output_type": "stream",
     "text": [
      "Model successfully created!\n"
     ]
    }
   ],
   "source": [
    "# Create the predictive model & train the dataset:\n",
    "\n",
    "from sklearn.linear_model import LogisticRegression\n",
    "\n",
    "model = LogisticRegression(C=1.0)\n",
    "\n",
    "model.fit(X_train, y_train)\n",
    "\n",
    "y_pred = model.predict(X_test)\n",
    "\n",
    "print(\"Model successfully created!\")"
   ]
  },
  {
   "cell_type": "code",
   "execution_count": 16,
   "id": "5b092b7d",
   "metadata": {},
   "outputs": [
    {
     "name": "stdout",
     "output_type": "stream",
     "text": [
      "==== The Importance Feature of The Model ====\n",
      "\n",
      "                  Features    Importance\n",
      "  Diff_Last_to_Latest_Date  1.334782e-02\n",
      "Average_Transaction_Amount -5.696774e-07\n",
      " Diff_First_to_Latest_Date -1.294489e-03\n",
      "                   Product -9.921814e-03\n",
      "         Count_Transaction -3.148073e-02\n",
      "=====================================================\n",
      "\n",
      "==== The Plot of Features Importances/Coefficients ====\n"
     ]
    },
    {
     "data": {
      "image/png": "[encoded data removed]",
      "text/plain": [
       "<Figure size 720x1080 with 1 Axes>"
      ]
     },
     "metadata": {
      "needs_background": "light"
     },
     "output_type": "display_data"
    }
   ],
   "source": [
    "# Predictor/Feature Importance for Each Variable\n",
    "\n",
    "import math\n",
    "\n",
    "print('==== The Importance Feature of The Model ====\\n')\n",
    "\n",
    "importance = model.coef_\n",
    "importance_v2 = importance.tolist()[0]\n",
    "\n",
    "columns_list = X_train.columns.values\n",
    "\n",
    "importance_df = pd.DataFrame()\n",
    "importance_df['Features'] = columns_list\n",
    "importance_df['Importance'] = importance_v2\n",
    "importance_df.sort_values(by=['Importance'], ascending=True, inplace=True)\n",
    "\n",
    "# summarize feature importance\n",
    "\n",
    "print(importance_df.sort_values(by=['Importance'], ascending=False).to_string(index=False))\n",
    "\n",
    "print(\"=====================================================\\n\\n==== The Plot of Features Importances/Coefficients ====\")\n",
    "\n",
    "plt.figure(figsize=(10,15))\n",
    "plt.barh(importance_df['Features'], importance_df['Importance'])\n",
    "plt.show()"
   ]
  },
  {
   "cell_type": "code",
   "execution_count": 17,
   "id": "5cde6e54",
   "metadata": {},
   "outputs": [
    {
     "name": "stdout",
     "output_type": "stream",
     "text": [
      "              precision    recall  f1-score   support\n",
      "\n",
      "       False       0.93      0.69      0.79      8354\n",
      "        True       0.86      0.97      0.92     16646\n",
      "\n",
      "    accuracy                           0.88     25000\n",
      "   macro avg       0.90      0.83      0.85     25000\n",
      "weighted avg       0.89      0.88      0.87     25000\n",
      "\n"
     ]
    }
   ],
   "source": [
    "# Modelling Performance Results:\n",
    "\n",
    "print(classification_report(y_test, y_pred))"
   ]
  },
  {
   "cell_type": "code",
   "execution_count": 18,
   "id": "3aabbee4",
   "metadata": {},
   "outputs": [
    {
     "data": {
      "image/png": "[encoded data removed]",
      "text/plain": [
       "<Figure size 432x288 with 1 Axes>"
      ]
     },
     "metadata": {
      "needs_background": "light"
     },
     "output_type": "display_data"
    }
   ],
   "source": [
    "# Create ROC curve and AUC:\n",
    "\n",
    "y_pred_proba = model.predict_proba(X_test)[::,1]\n",
    "fpr, tpr, _ = metrics.roc_curve(y_test,  y_pred_proba)\n",
    "auc = metrics.roc_auc_score(y_test, y_pred_proba)\n",
    "\n",
    "\n",
    "plt.plot(fpr,tpr,label=\"AUC=\"+str(auc))\n",
    "plt.ylabel('True Positive Rate')\n",
    "plt.xlabel('False Positive Rate')\n",
    "plt.legend(loc=4)\n",
    "plt.show()"
   ]
  },
  {
   "cell_type": "markdown",
   "id": "86f1a4a8",
   "metadata": {},
   "source": [
    "# End\n",
    "<b>Conclusion</b>: According to the predictive-model's interpretations, the most important variable that determine the customers to <u>not churning</u> is the \"Count_Transaction\" or we can say <i>the more frequent a customer doing transactions, that customer will less likely going to churn</i>."
   ]
  }
 ],
 "metadata": {
  "kernelspec": {
   "display_name": "Python 3 (ipykernel)",
   "language": "python",
   "name": "python3"
  },
  "language_info": {
   "codemirror_mode": {
    "name": "ipython",
    "version": 3
   },
   "file_extension": ".py",
   "mimetype": "text/x-python",
   "name": "python",
   "nbconvert_exporter": "python",
   "pygments_lexer": "ipython3",
   "version": "3.9.6"
  }
 },
 "nbformat": 4,
 "nbformat_minor": 5
}
